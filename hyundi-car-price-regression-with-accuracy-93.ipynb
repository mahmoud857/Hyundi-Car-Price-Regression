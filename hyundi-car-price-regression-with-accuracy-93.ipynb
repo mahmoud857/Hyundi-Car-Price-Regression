{
 "cells": [
  {
   "cell_type": "code",
   "execution_count": 1,
   "id": "19af273a",
   "metadata": {
    "execution": {
     "iopub.execute_input": "2021-09-05T19:50:15.392112Z",
     "iopub.status.busy": "2021-09-05T19:50:15.391400Z",
     "iopub.status.idle": "2021-09-05T19:50:16.754518Z",
     "shell.execute_reply": "2021-09-05T19:50:16.753687Z",
     "shell.execute_reply.started": "2021-09-05T19:48:39.059527Z"
    },
    "papermill": {
     "duration": 1.396809,
     "end_time": "2021-09-05T19:50:16.754731",
     "exception": false,
     "start_time": "2021-09-05T19:50:15.357922",
     "status": "completed"
    },
    "tags": []
   },
   "outputs": [],
   "source": [
    "import pandas as pd\n",
    "import numpy as np \n",
    "from sklearn.preprocessing import LabelEncoder\n",
    "from sklearn.preprocessing import MinMaxScaler\n",
    "from sklearn.model_selection import train_test_split\n",
    "from sklearn.ensemble import RandomForestRegressor\n",
    "from sklearn.tree import DecisionTreeRegressor\n",
    "from sklearn.metrics import mean_squared_error"
   ]
  },
  {
   "cell_type": "code",
   "execution_count": 2,
   "id": "6dd23125",
   "metadata": {
    "execution": {
     "iopub.execute_input": "2021-09-05T19:50:16.799631Z",
     "iopub.status.busy": "2021-09-05T19:50:16.798789Z",
     "iopub.status.idle": "2021-09-05T19:50:16.860190Z",
     "shell.execute_reply": "2021-09-05T19:50:16.860732Z",
     "shell.execute_reply.started": "2021-09-05T19:31:24.554960Z"
    },
    "papermill": {
     "duration": 0.084647,
     "end_time": "2021-09-05T19:50:16.860906",
     "exception": false,
     "start_time": "2021-09-05T19:50:16.776259",
     "status": "completed"
    },
    "tags": []
   },
   "outputs": [
    {
     "data": {
      "text/html": [
       "<div>\n",
       "<style scoped>\n",
       "    .dataframe tbody tr th:only-of-type {\n",
       "        vertical-align: middle;\n",
       "    }\n",
       "\n",
       "    .dataframe tbody tr th {\n",
       "        vertical-align: top;\n",
       "    }\n",
       "\n",
       "    .dataframe thead th {\n",
       "        text-align: right;\n",
       "    }\n",
       "</style>\n",
       "<table border=\"1\" class=\"dataframe\">\n",
       "  <thead>\n",
       "    <tr style=\"text-align: right;\">\n",
       "      <th></th>\n",
       "      <th>model</th>\n",
       "      <th>year</th>\n",
       "      <th>price</th>\n",
       "      <th>transmission</th>\n",
       "      <th>mileage</th>\n",
       "      <th>fuelType</th>\n",
       "      <th>tax(£)</th>\n",
       "      <th>mpg</th>\n",
       "      <th>engineSize</th>\n",
       "    </tr>\n",
       "  </thead>\n",
       "  <tbody>\n",
       "    <tr>\n",
       "      <th>0</th>\n",
       "      <td>I20</td>\n",
       "      <td>2017</td>\n",
       "      <td>7999</td>\n",
       "      <td>Manual</td>\n",
       "      <td>17307</td>\n",
       "      <td>Petrol</td>\n",
       "      <td>145</td>\n",
       "      <td>58.9</td>\n",
       "      <td>1.2</td>\n",
       "    </tr>\n",
       "    <tr>\n",
       "      <th>1</th>\n",
       "      <td>Tucson</td>\n",
       "      <td>2016</td>\n",
       "      <td>14499</td>\n",
       "      <td>Automatic</td>\n",
       "      <td>25233</td>\n",
       "      <td>Diesel</td>\n",
       "      <td>235</td>\n",
       "      <td>43.5</td>\n",
       "      <td>2.0</td>\n",
       "    </tr>\n",
       "    <tr>\n",
       "      <th>2</th>\n",
       "      <td>Tucson</td>\n",
       "      <td>2016</td>\n",
       "      <td>11399</td>\n",
       "      <td>Manual</td>\n",
       "      <td>37877</td>\n",
       "      <td>Diesel</td>\n",
       "      <td>30</td>\n",
       "      <td>61.7</td>\n",
       "      <td>1.7</td>\n",
       "    </tr>\n",
       "    <tr>\n",
       "      <th>3</th>\n",
       "      <td>I10</td>\n",
       "      <td>2016</td>\n",
       "      <td>6499</td>\n",
       "      <td>Manual</td>\n",
       "      <td>23789</td>\n",
       "      <td>Petrol</td>\n",
       "      <td>20</td>\n",
       "      <td>60.1</td>\n",
       "      <td>1.0</td>\n",
       "    </tr>\n",
       "    <tr>\n",
       "      <th>4</th>\n",
       "      <td>IX35</td>\n",
       "      <td>2015</td>\n",
       "      <td>10199</td>\n",
       "      <td>Manual</td>\n",
       "      <td>33177</td>\n",
       "      <td>Diesel</td>\n",
       "      <td>160</td>\n",
       "      <td>51.4</td>\n",
       "      <td>2.0</td>\n",
       "    </tr>\n",
       "  </tbody>\n",
       "</table>\n",
       "</div>"
      ],
      "text/plain": [
       "     model  year  price transmission  mileage fuelType  tax(£)   mpg  \\\n",
       "0      I20  2017   7999       Manual    17307   Petrol     145  58.9   \n",
       "1   Tucson  2016  14499    Automatic    25233   Diesel     235  43.5   \n",
       "2   Tucson  2016  11399       Manual    37877   Diesel      30  61.7   \n",
       "3      I10  2016   6499       Manual    23789   Petrol      20  60.1   \n",
       "4     IX35  2015  10199       Manual    33177   Diesel     160  51.4   \n",
       "\n",
       "   engineSize  \n",
       "0         1.2  \n",
       "1         2.0  \n",
       "2         1.7  \n",
       "3         1.0  \n",
       "4         2.0  "
      ]
     },
     "execution_count": 2,
     "metadata": {},
     "output_type": "execute_result"
    }
   ],
   "source": [
    "hyundi=pd.read_csv(\"../input/used-car-dataset-ford-and-mercedes/hyundi.csv\")\n",
    "hyundi.head()"
   ]
  },
  {
   "cell_type": "code",
   "execution_count": 3,
   "id": "fb9d741e",
   "metadata": {
    "execution": {
     "iopub.execute_input": "2021-09-05T19:50:16.900776Z",
     "iopub.status.busy": "2021-09-05T19:50:16.900079Z",
     "iopub.status.idle": "2021-09-05T19:50:16.906455Z",
     "shell.execute_reply": "2021-09-05T19:50:16.905948Z",
     "shell.execute_reply.started": "2021-09-05T19:31:33.814540Z"
    },
    "papermill": {
     "duration": 0.02738,
     "end_time": "2021-09-05T19:50:16.906674",
     "exception": false,
     "start_time": "2021-09-05T19:50:16.879294",
     "status": "completed"
    },
    "tags": []
   },
   "outputs": [
    {
     "data": {
      "text/plain": [
       "(4860, 9)"
      ]
     },
     "execution_count": 3,
     "metadata": {},
     "output_type": "execute_result"
    }
   ],
   "source": [
    "hyundi.shape"
   ]
  },
  {
   "cell_type": "code",
   "execution_count": 4,
   "id": "0f089cc2",
   "metadata": {
    "execution": {
     "iopub.execute_input": "2021-09-05T19:50:16.956158Z",
     "iopub.status.busy": "2021-09-05T19:50:16.955227Z",
     "iopub.status.idle": "2021-09-05T19:50:16.963739Z",
     "shell.execute_reply": "2021-09-05T19:50:16.963222Z",
     "shell.execute_reply.started": "2021-09-05T19:31:44.125919Z"
    },
    "papermill": {
     "duration": 0.038634,
     "end_time": "2021-09-05T19:50:16.963881",
     "exception": false,
     "start_time": "2021-09-05T19:50:16.925247",
     "status": "completed"
    },
    "tags": []
   },
   "outputs": [
    {
     "data": {
      "text/plain": [
       "model            object\n",
       "year              int64\n",
       "price             int64\n",
       "transmission     object\n",
       "mileage           int64\n",
       "fuelType         object\n",
       "tax(£)            int64\n",
       "mpg             float64\n",
       "engineSize      float64\n",
       "dtype: object"
      ]
     },
     "execution_count": 4,
     "metadata": {},
     "output_type": "execute_result"
    }
   ],
   "source": [
    "hyundi.dtypes"
   ]
  },
  {
   "cell_type": "code",
   "execution_count": 5,
   "id": "a9b34224",
   "metadata": {
    "execution": {
     "iopub.execute_input": "2021-09-05T19:50:17.009977Z",
     "iopub.status.busy": "2021-09-05T19:50:17.005515Z",
     "iopub.status.idle": "2021-09-05T19:50:17.017437Z",
     "shell.execute_reply": "2021-09-05T19:50:17.016903Z",
     "shell.execute_reply.started": "2021-09-05T19:31:58.752914Z"
    },
    "papermill": {
     "duration": 0.034457,
     "end_time": "2021-09-05T19:50:17.017613",
     "exception": false,
     "start_time": "2021-09-05T19:50:16.983156",
     "status": "completed"
    },
    "tags": []
   },
   "outputs": [
    {
     "data": {
      "text/plain": [
       "model           0\n",
       "year            0\n",
       "price           0\n",
       "transmission    0\n",
       "mileage         0\n",
       "fuelType        0\n",
       "tax(£)          0\n",
       "mpg             0\n",
       "engineSize      0\n",
       "dtype: int64"
      ]
     },
     "execution_count": 5,
     "metadata": {},
     "output_type": "execute_result"
    }
   ],
   "source": [
    "hyundi.isnull().sum()"
   ]
  },
  {
   "cell_type": "code",
   "execution_count": 6,
   "id": "6314c4d7",
   "metadata": {
    "execution": {
     "iopub.execute_input": "2021-09-05T19:50:17.073615Z",
     "iopub.status.busy": "2021-09-05T19:50:17.072794Z",
     "iopub.status.idle": "2021-09-05T19:50:17.076127Z",
     "shell.execute_reply": "2021-09-05T19:50:17.076578Z",
     "shell.execute_reply.started": "2021-09-05T19:32:08.262483Z"
    },
    "papermill": {
     "duration": 0.038331,
     "end_time": "2021-09-05T19:50:17.076913",
     "exception": false,
     "start_time": "2021-09-05T19:50:17.038582",
     "status": "completed"
    },
    "tags": []
   },
   "outputs": [
    {
     "data": {
      "text/plain": [
       "<bound method NDFrame.describe of         model  year  price transmission  mileage fuelType  tax(£)   mpg  \\\n",
       "0         I20  2017   7999       Manual    17307   Petrol     145  58.9   \n",
       "1      Tucson  2016  14499    Automatic    25233   Diesel     235  43.5   \n",
       "2      Tucson  2016  11399       Manual    37877   Diesel      30  61.7   \n",
       "3         I10  2016   6499       Manual    23789   Petrol      20  60.1   \n",
       "4        IX35  2015  10199       Manual    33177   Diesel     160  51.4   \n",
       "...       ...   ...    ...          ...      ...      ...     ...   ...   \n",
       "4855      I30  2016   8680       Manual    25906   Diesel       0  78.4   \n",
       "4856      I40  2015   7830       Manual    59508   Diesel      30  65.7   \n",
       "4857      I10  2017   6830       Manual    13810   Petrol      20  60.1   \n",
       "4858   Tucson  2018  13994       Manual    23313   Petrol     145  44.8   \n",
       "4859   Tucson  2016  15999    Automatic    11472   Diesel     125  57.6   \n",
       "\n",
       "      engineSize  \n",
       "0            1.2  \n",
       "1            2.0  \n",
       "2            1.7  \n",
       "3            1.0  \n",
       "4            2.0  \n",
       "...          ...  \n",
       "4855         1.6  \n",
       "4856         1.7  \n",
       "4857         1.0  \n",
       "4858         1.6  \n",
       "4859         1.7  \n",
       "\n",
       "[4860 rows x 9 columns]>"
      ]
     },
     "execution_count": 6,
     "metadata": {},
     "output_type": "execute_result"
    }
   ],
   "source": [
    "hyundi.describe"
   ]
  },
  {
   "cell_type": "code",
   "execution_count": 7,
   "id": "e2906553",
   "metadata": {
    "execution": {
     "iopub.execute_input": "2021-09-05T19:50:17.121652Z",
     "iopub.status.busy": "2021-09-05T19:50:17.120953Z",
     "iopub.status.idle": "2021-09-05T19:50:17.135253Z",
     "shell.execute_reply": "2021-09-05T19:50:17.135789Z",
     "shell.execute_reply.started": "2021-09-05T19:32:27.284474Z"
    },
    "papermill": {
     "duration": 0.038211,
     "end_time": "2021-09-05T19:50:17.135979",
     "exception": false,
     "start_time": "2021-09-05T19:50:17.097768",
     "status": "completed"
    },
    "tags": []
   },
   "outputs": [
    {
     "data": {
      "text/plain": [
       "<bound method DataFrame.info of         model  year  price transmission  mileage fuelType  tax(£)   mpg  \\\n",
       "0         I20  2017   7999       Manual    17307   Petrol     145  58.9   \n",
       "1      Tucson  2016  14499    Automatic    25233   Diesel     235  43.5   \n",
       "2      Tucson  2016  11399       Manual    37877   Diesel      30  61.7   \n",
       "3         I10  2016   6499       Manual    23789   Petrol      20  60.1   \n",
       "4        IX35  2015  10199       Manual    33177   Diesel     160  51.4   \n",
       "...       ...   ...    ...          ...      ...      ...     ...   ...   \n",
       "4855      I30  2016   8680       Manual    25906   Diesel       0  78.4   \n",
       "4856      I40  2015   7830       Manual    59508   Diesel      30  65.7   \n",
       "4857      I10  2017   6830       Manual    13810   Petrol      20  60.1   \n",
       "4858   Tucson  2018  13994       Manual    23313   Petrol     145  44.8   \n",
       "4859   Tucson  2016  15999    Automatic    11472   Diesel     125  57.6   \n",
       "\n",
       "      engineSize  \n",
       "0            1.2  \n",
       "1            2.0  \n",
       "2            1.7  \n",
       "3            1.0  \n",
       "4            2.0  \n",
       "...          ...  \n",
       "4855         1.6  \n",
       "4856         1.7  \n",
       "4857         1.0  \n",
       "4858         1.6  \n",
       "4859         1.7  \n",
       "\n",
       "[4860 rows x 9 columns]>"
      ]
     },
     "execution_count": 7,
     "metadata": {},
     "output_type": "execute_result"
    }
   ],
   "source": [
    "hyundi.info\n"
   ]
  },
  {
   "cell_type": "code",
   "execution_count": 8,
   "id": "2551ecec",
   "metadata": {
    "execution": {
     "iopub.execute_input": "2021-09-05T19:50:17.182536Z",
     "iopub.status.busy": "2021-09-05T19:50:17.181789Z",
     "iopub.status.idle": "2021-09-05T19:50:17.194480Z",
     "shell.execute_reply": "2021-09-05T19:50:17.193808Z",
     "shell.execute_reply.started": "2021-09-05T19:33:58.100971Z"
    },
    "papermill": {
     "duration": 0.037287,
     "end_time": "2021-09-05T19:50:17.194657",
     "exception": false,
     "start_time": "2021-09-05T19:50:17.157370",
     "status": "completed"
    },
    "tags": []
   },
   "outputs": [
    {
     "data": {
      "text/plain": [
       "{0: ' Accent',\n",
       " 1: ' Amica',\n",
       " 2: ' Getz',\n",
       " 3: ' I10',\n",
       " 4: ' I20',\n",
       " 5: ' I30',\n",
       " 6: ' I40',\n",
       " 7: ' I800',\n",
       " 8: ' IX20',\n",
       " 9: ' IX35',\n",
       " 10: ' Ioniq',\n",
       " 11: ' Kona',\n",
       " 12: ' Santa Fe',\n",
       " 13: ' Terracan',\n",
       " 14: ' Tucson',\n",
       " 15: ' Veloster'}"
      ]
     },
     "execution_count": 8,
     "metadata": {},
     "output_type": "execute_result"
    }
   ],
   "source": [
    "encoder = LabelEncoder()\n",
    "hyundi['model'] = encoder.fit_transform(hyundi['model'])\n",
    "model_mapping = {index : label for index, label in enumerate(encoder.classes_)}\n",
    "model_mapping"
   ]
  },
  {
   "cell_type": "code",
   "execution_count": 9,
   "id": "4d3dffd5",
   "metadata": {
    "execution": {
     "iopub.execute_input": "2021-09-05T19:50:17.248298Z",
     "iopub.status.busy": "2021-09-05T19:50:17.247334Z",
     "iopub.status.idle": "2021-09-05T19:50:17.252238Z",
     "shell.execute_reply": "2021-09-05T19:50:17.251559Z",
     "shell.execute_reply.started": "2021-09-05T19:34:16.619667Z"
    },
    "papermill": {
     "duration": 0.036035,
     "end_time": "2021-09-05T19:50:17.252388",
     "exception": false,
     "start_time": "2021-09-05T19:50:17.216353",
     "status": "completed"
    },
    "tags": []
   },
   "outputs": [
    {
     "data": {
      "text/plain": [
       "{0: 'Automatic', 1: 'Manual', 2: 'Other', 3: 'Semi-Auto'}"
      ]
     },
     "execution_count": 9,
     "metadata": {},
     "output_type": "execute_result"
    }
   ],
   "source": [
    "hyundi['transmission'] = encoder.fit_transform(hyundi['transmission'])\n",
    "transmission_mapping = {index : label for index, label in enumerate(encoder.classes_)}\n",
    "transmission_mapping"
   ]
  },
  {
   "cell_type": "code",
   "execution_count": 10,
   "id": "75a96071",
   "metadata": {
    "execution": {
     "iopub.execute_input": "2021-09-05T19:50:17.304335Z",
     "iopub.status.busy": "2021-09-05T19:50:17.303699Z",
     "iopub.status.idle": "2021-09-05T19:50:17.306697Z",
     "shell.execute_reply": "2021-09-05T19:50:17.307340Z",
     "shell.execute_reply.started": "2021-09-05T19:34:34.322495Z"
    },
    "papermill": {
     "duration": 0.033212,
     "end_time": "2021-09-05T19:50:17.307512",
     "exception": false,
     "start_time": "2021-09-05T19:50:17.274300",
     "status": "completed"
    },
    "tags": []
   },
   "outputs": [
    {
     "data": {
      "text/plain": [
       "{0: 'Diesel', 1: 'Hybrid', 2: 'Other', 3: 'Petrol'}"
      ]
     },
     "execution_count": 10,
     "metadata": {},
     "output_type": "execute_result"
    }
   ],
   "source": [
    "hyundi['fuelType'] = encoder.fit_transform(hyundi['fuelType'])\n",
    "fuelType_mapping = {index : label for index, label in enumerate(encoder.classes_)}\n",
    "fuelType_mapping"
   ]
  },
  {
   "cell_type": "code",
   "execution_count": 11,
   "id": "c3f65b8e",
   "metadata": {
    "execution": {
     "iopub.execute_input": "2021-09-05T19:50:17.354924Z",
     "iopub.status.busy": "2021-09-05T19:50:17.354202Z",
     "iopub.status.idle": "2021-09-05T19:50:17.360027Z",
     "shell.execute_reply": "2021-09-05T19:50:17.360531Z",
     "shell.execute_reply.started": "2021-09-05T19:34:53.338613Z"
    },
    "papermill": {
     "duration": 0.031568,
     "end_time": "2021-09-05T19:50:17.360833",
     "exception": false,
     "start_time": "2021-09-05T19:50:17.329265",
     "status": "completed"
    },
    "tags": []
   },
   "outputs": [],
   "source": [
    "x = hyundi.drop('price', axis=1)\n",
    "y = hyundi['price']"
   ]
  },
  {
   "cell_type": "code",
   "execution_count": 12,
   "id": "861b4dff",
   "metadata": {
    "execution": {
     "iopub.execute_input": "2021-09-05T19:50:17.411058Z",
     "iopub.status.busy": "2021-09-05T19:50:17.410104Z",
     "iopub.status.idle": "2021-09-05T19:50:17.426218Z",
     "shell.execute_reply": "2021-09-05T19:50:17.425540Z",
     "shell.execute_reply.started": "2021-09-05T19:35:54.807748Z"
    },
    "papermill": {
     "duration": 0.04236,
     "end_time": "2021-09-05T19:50:17.426367",
     "exception": false,
     "start_time": "2021-09-05T19:50:17.384007",
     "status": "completed"
    },
    "tags": []
   },
   "outputs": [
    {
     "name": "stdout",
     "output_type": "stream",
     "text": [
      "x \n",
      " [[0.26666667 0.85       0.33333333 0.12540671 1.         0.26126126\n",
      "  0.22604615 0.4137931 ]\n",
      " [0.93333333 0.8        0.         0.1828419  0.         0.42342342\n",
      "  0.16581932 0.68965517]\n",
      " [0.93333333 0.8        0.33333333 0.27446576 0.         0.05405405\n",
      "  0.23699648 0.5862069 ]\n",
      " [0.2        0.8        0.33333333 0.17237806 1.         0.03603604\n",
      "  0.23073915 0.34482759]\n",
      " [0.6        0.75       0.33333333 0.24040754 0.         0.28828829\n",
      "  0.1967149  0.68965517]\n",
      " [0.2        0.75       0.33333333 0.30180653 1.         0.03603604\n",
      "  0.23073915 0.34482759]\n",
      " [0.26666667 0.75       0.33333333 0.28656729 1.         0.05405405\n",
      "  0.21235823 0.4137931 ]\n",
      " [0.93333333 0.8        0.         0.21955956 0.         0.22522523\n",
      "  0.22096206 0.5862069 ]\n",
      " [0.33333333 0.9        0.         0.27595128 1.         0.26126126\n",
      "  0.1967149  0.48275862]\n",
      " [0.93333333 0.8        0.33333333 0.15226922 0.         0.05405405\n",
      "  0.23699648 0.5862069 ]]\n",
      "y \n",
      " 0     7999\n",
      "1    14499\n",
      "2    11399\n",
      "3     6499\n",
      "4    10199\n",
      "5     6149\n",
      "6     6799\n",
      "7    14199\n",
      "8    10399\n",
      "9    12163\n",
      "Name: price, dtype: int64\n"
     ]
    }
   ],
   "source": [
    "scaler = MinMaxScaler(copy=True, feature_range=(0, 1))\n",
    "X = scaler.fit_transform(x)\n",
    "\n",
    "#showing data\n",
    "print('x \\n' , X[:10])\n",
    "print('y \\n' , y[:10])"
   ]
  },
  {
   "cell_type": "code",
   "execution_count": 13,
   "id": "ccc17c36",
   "metadata": {
    "execution": {
     "iopub.execute_input": "2021-09-05T19:50:17.479244Z",
     "iopub.status.busy": "2021-09-05T19:50:17.478558Z",
     "iopub.status.idle": "2021-09-05T19:50:17.485248Z",
     "shell.execute_reply": "2021-09-05T19:50:17.485735Z",
     "shell.execute_reply.started": "2021-09-05T19:36:47.065288Z"
    },
    "papermill": {
     "duration": 0.036116,
     "end_time": "2021-09-05T19:50:17.485919",
     "exception": false,
     "start_time": "2021-09-05T19:50:17.449803",
     "status": "completed"
    },
    "tags": []
   },
   "outputs": [],
   "source": [
    "x_train,x_test,y_train,y_test=train_test_split(x,y,test_size=30,random_state=0)"
   ]
  },
  {
   "cell_type": "code",
   "execution_count": 14,
   "id": "80a8adeb",
   "metadata": {
    "execution": {
     "iopub.execute_input": "2021-09-05T19:50:17.533362Z",
     "iopub.status.busy": "2021-09-05T19:50:17.532723Z",
     "iopub.status.idle": "2021-09-05T19:50:17.535344Z",
     "shell.execute_reply": "2021-09-05T19:50:17.535852Z",
     "shell.execute_reply.started": "2021-09-05T19:37:22.452314Z"
    },
    "papermill": {
     "duration": 0.0289,
     "end_time": "2021-09-05T19:50:17.536018",
     "exception": false,
     "start_time": "2021-09-05T19:50:17.507118",
     "status": "completed"
    },
    "tags": []
   },
   "outputs": [
    {
     "name": "stdout",
     "output_type": "stream",
     "text": [
      "x_train shape is: (4830, 8)\n"
     ]
    }
   ],
   "source": [
    "print(\"x_train shape is:\",x_train.shape)"
   ]
  },
  {
   "cell_type": "code",
   "execution_count": 15,
   "id": "09e184cf",
   "metadata": {
    "execution": {
     "iopub.execute_input": "2021-09-05T19:50:17.586723Z",
     "iopub.status.busy": "2021-09-05T19:50:17.585739Z",
     "iopub.status.idle": "2021-09-05T19:50:17.590318Z",
     "shell.execute_reply": "2021-09-05T19:50:17.589505Z",
     "shell.execute_reply.started": "2021-09-05T19:37:46.936053Z"
    },
    "papermill": {
     "duration": 0.033072,
     "end_time": "2021-09-05T19:50:17.590513",
     "exception": false,
     "start_time": "2021-09-05T19:50:17.557441",
     "status": "completed"
    },
    "tags": []
   },
   "outputs": [
    {
     "name": "stdout",
     "output_type": "stream",
     "text": [
      "x_test shape is: (30, 8)\n"
     ]
    }
   ],
   "source": [
    "print(\"x_test shape is:\",x_test.shape)"
   ]
  },
  {
   "cell_type": "code",
   "execution_count": 16,
   "id": "712e4677",
   "metadata": {
    "execution": {
     "iopub.execute_input": "2021-09-05T19:50:17.643052Z",
     "iopub.status.busy": "2021-09-05T19:50:17.642075Z",
     "iopub.status.idle": "2021-09-05T19:50:17.645419Z",
     "shell.execute_reply": "2021-09-05T19:50:17.645952Z",
     "shell.execute_reply.started": "2021-09-05T19:38:22.876203Z"
    },
    "papermill": {
     "duration": 0.031866,
     "end_time": "2021-09-05T19:50:17.646125",
     "exception": false,
     "start_time": "2021-09-05T19:50:17.614259",
     "status": "completed"
    },
    "tags": []
   },
   "outputs": [
    {
     "name": "stdout",
     "output_type": "stream",
     "text": [
      "y_train shape is: (4830,)\n"
     ]
    }
   ],
   "source": [
    "print(\"y_train shape is:\",y_train.shape)"
   ]
  },
  {
   "cell_type": "code",
   "execution_count": 17,
   "id": "c11bd4a5",
   "metadata": {
    "execution": {
     "iopub.execute_input": "2021-09-05T19:50:17.697033Z",
     "iopub.status.busy": "2021-09-05T19:50:17.696229Z",
     "iopub.status.idle": "2021-09-05T19:50:17.699883Z",
     "shell.execute_reply": "2021-09-05T19:50:17.700376Z",
     "shell.execute_reply.started": "2021-09-05T19:38:49.043416Z"
    },
    "papermill": {
     "duration": 0.032127,
     "end_time": "2021-09-05T19:50:17.700543",
     "exception": false,
     "start_time": "2021-09-05T19:50:17.668416",
     "status": "completed"
    },
    "tags": []
   },
   "outputs": [
    {
     "name": "stdout",
     "output_type": "stream",
     "text": [
      "y_test shape is: (30,)\n"
     ]
    }
   ],
   "source": [
    "print(\"y_test shape is:\",y_test.shape)"
   ]
  },
  {
   "cell_type": "code",
   "execution_count": 18,
   "id": "4ab19c23",
   "metadata": {
    "execution": {
     "iopub.execute_input": "2021-09-05T19:50:17.756153Z",
     "iopub.status.busy": "2021-09-05T19:50:17.755473Z",
     "iopub.status.idle": "2021-09-05T19:50:18.614585Z",
     "shell.execute_reply": "2021-09-05T19:50:18.613788Z",
     "shell.execute_reply.started": "2021-09-05T19:42:41.196207Z"
    },
    "papermill": {
     "duration": 0.891046,
     "end_time": "2021-09-05T19:50:18.614813",
     "exception": false,
     "start_time": "2021-09-05T19:50:17.723767",
     "status": "completed"
    },
    "tags": []
   },
   "outputs": [
    {
     "name": "stdout",
     "output_type": "stream",
     "text": [
      "Random Forest Regressor Train Score is :  0.9595119115583844\n",
      "Random Forest Regressor Test Score is :  0.934122911051392\n",
      "Random Forest Regressor No. of features are :  8\n",
      "----------------------------------------------------\n",
      "Predicted Value for Random Forest Regressor is :  [ 8128.61994955  8754.08226734 11024.42026955  9926.40376711\n",
      " 13969.43236807  6638.01033333  8665.74820345 19190.44551606\n",
      " 10114.33703312 16237.12271682]\n"
     ]
    }
   ],
   "source": [
    "RandomForestRegressorModel = RandomForestRegressor(n_estimators=100,max_depth=8, random_state=33)\n",
    "RandomForestRegressorModel.fit(x_train, y_train)\n",
    "\n",
    "print('Random Forest Regressor Train Score is : ' , RandomForestRegressorModel.score(x_train, y_train))\n",
    "print('Random Forest Regressor Test Score is : ' , RandomForestRegressorModel.score(x_test, y_test))\n",
    "print('Random Forest Regressor No. of features are : ' , RandomForestRegressorModel.n_features_)\n",
    "print('----------------------------------------------------')\n",
    "\n",
    "y_pred = RandomForestRegressorModel.predict(x_test)\n",
    "print('Predicted Value for Random Forest Regressor is : ' , y_pred[:10])"
   ]
  },
  {
   "cell_type": "code",
   "execution_count": 19,
   "id": "a6df2900",
   "metadata": {
    "execution": {
     "iopub.execute_input": "2021-09-05T19:50:18.672008Z",
     "iopub.status.busy": "2021-09-05T19:50:18.670666Z",
     "iopub.status.idle": "2021-09-05T19:50:18.695516Z",
     "shell.execute_reply": "2021-09-05T19:50:18.696002Z",
     "shell.execute_reply.started": "2021-09-05T19:45:02.578021Z"
    },
    "papermill": {
     "duration": 0.057733,
     "end_time": "2021-09-05T19:50:18.696184",
     "exception": false,
     "start_time": "2021-09-05T19:50:18.638451",
     "status": "completed"
    },
    "tags": []
   },
   "outputs": [
    {
     "name": "stdout",
     "output_type": "stream",
     "text": [
      "DecisionTreeRegressor Train Score is :  0.9193212545413738\n",
      "DecisionTreeRegressor Test Score is :  0.9033943889743087\n",
      "----------------------------------------------------\n",
      "Predicted Value for DecisionTreeRegressorModel is :  [ 8090.225       8501.53191489 11432.82352941 10757.81132075\n",
      " 13643.29473684  6495.          8501.53191489 19880.69230769\n",
      " 10757.81132075 15362.55769231]\n"
     ]
    }
   ],
   "source": [
    "DecisionTreeRegressorModel = DecisionTreeRegressor( max_depth=7,random_state=33)\n",
    "DecisionTreeRegressorModel.fit(x_train, y_train)\n",
    "\n",
    "print('DecisionTreeRegressor Train Score is : ' , DecisionTreeRegressorModel.score(x_train, y_train))\n",
    "print('DecisionTreeRegressor Test Score is : ' , DecisionTreeRegressorModel.score(x_test, y_test))\n",
    "print('----------------------------------------------------')\n",
    "\n",
    "y_pred = DecisionTreeRegressorModel.predict(x_test)\n",
    "print('Predicted Value for DecisionTreeRegressorModel is : ' , y_pred[:10])"
   ]
  },
  {
   "cell_type": "code",
   "execution_count": 20,
   "id": "caa8aae4",
   "metadata": {
    "execution": {
     "iopub.execute_input": "2021-09-05T19:50:18.753459Z",
     "iopub.status.busy": "2021-09-05T19:50:18.752562Z",
     "iopub.status.idle": "2021-09-05T19:50:18.757986Z",
     "shell.execute_reply": "2021-09-05T19:50:18.757346Z",
     "shell.execute_reply.started": "2021-09-05T19:48:52.021114Z"
    },
    "papermill": {
     "duration": 0.037556,
     "end_time": "2021-09-05T19:50:18.758132",
     "exception": false,
     "start_time": "2021-09-05T19:50:18.720576",
     "status": "completed"
    },
    "tags": []
   },
   "outputs": [
    {
     "name": "stdout",
     "output_type": "stream",
     "text": [
      "Mean Squared Error Value is :  3233614.51169215\n"
     ]
    }
   ],
   "source": [
    "MSEValue = mean_squared_error(y_test, y_pred, multioutput='uniform_average') # it can be raw_values\n",
    "print('Mean Squared Error Value is : ', MSEValue)"
   ]
  },
  {
   "cell_type": "code",
   "execution_count": null,
   "id": "94adf22a",
   "metadata": {
    "papermill": {
     "duration": 0.025502,
     "end_time": "2021-09-05T19:50:18.808909",
     "exception": false,
     "start_time": "2021-09-05T19:50:18.783407",
     "status": "completed"
    },
    "tags": []
   },
   "outputs": [],
   "source": []
  }
 ],
 "metadata": {
  "kernelspec": {
   "display_name": "Python 3",
   "language": "python",
   "name": "python3"
  },
  "language_info": {
   "codemirror_mode": {
    "name": "ipython",
    "version": 3
   },
   "file_extension": ".py",
   "mimetype": "text/x-python",
   "name": "python",
   "nbconvert_exporter": "python",
   "pygments_lexer": "ipython3",
   "version": "3.7.10"
  },
  "papermill": {
   "default_parameters": {},
   "duration": 13.950602,
   "end_time": "2021-09-05T19:50:20.070699",
   "environment_variables": {},
   "exception": null,
   "input_path": "__notebook__.ipynb",
   "output_path": "__notebook__.ipynb",
   "parameters": {},
   "start_time": "2021-09-05T19:50:06.120097",
   "version": "2.3.3"
  }
 },
 "nbformat": 4,
 "nbformat_minor": 5
}
